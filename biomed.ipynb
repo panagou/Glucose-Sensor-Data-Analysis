{
 "cells": [
  {
   "cell_type": "code",
   "execution_count": 1,
   "id": "538ce9aa",
   "metadata": {},
   "outputs": [],
   "source": [
    "import numpy as np\n",
    "import matplotlib.pyplot as plt\n",
    "import pandas as pd\n",
    "from sklearn import metrics"
   ]
  },
  {
   "cell_type": "code",
   "execution_count": 2,
   "id": "f06aa0d5",
   "metadata": {},
   "outputs": [
    {
     "data": {
      "text/html": [
       "<div>\n",
       "<style scoped>\n",
       "    .dataframe tbody tr th:only-of-type {\n",
       "        vertical-align: middle;\n",
       "    }\n",
       "\n",
       "    .dataframe tbody tr th {\n",
       "        vertical-align: top;\n",
       "    }\n",
       "\n",
       "    .dataframe thead th {\n",
       "        text-align: right;\n",
       "    }\n",
       "</style>\n",
       "<table border=\"1\" class=\"dataframe\">\n",
       "  <thead>\n",
       "    <tr style=\"text-align: right;\">\n",
       "      <th></th>\n",
       "      <th>Blood Glucose (mg/dl)</th>\n",
       "      <th>Sensor Glucose Readings(mg/dl)</th>\n",
       "    </tr>\n",
       "    <tr>\n",
       "      <th>Time (min)</th>\n",
       "      <th></th>\n",
       "      <th></th>\n",
       "    </tr>\n",
       "  </thead>\n",
       "  <tbody>\n",
       "    <tr>\n",
       "      <th>1</th>\n",
       "      <td>122.743957</td>\n",
       "      <td>121</td>\n",
       "    </tr>\n",
       "    <tr>\n",
       "      <th>2</th>\n",
       "      <td>122.743957</td>\n",
       "      <td>121</td>\n",
       "    </tr>\n",
       "    <tr>\n",
       "      <th>3</th>\n",
       "      <td>122.743957</td>\n",
       "      <td>121</td>\n",
       "    </tr>\n",
       "    <tr>\n",
       "      <th>4</th>\n",
       "      <td>122.743957</td>\n",
       "      <td>121</td>\n",
       "    </tr>\n",
       "    <tr>\n",
       "      <th>5</th>\n",
       "      <td>122.743957</td>\n",
       "      <td>121</td>\n",
       "    </tr>\n",
       "    <tr>\n",
       "      <th>...</th>\n",
       "      <td>...</td>\n",
       "      <td>...</td>\n",
       "    </tr>\n",
       "    <tr>\n",
       "      <th>5037</th>\n",
       "      <td>149.222188</td>\n",
       "      <td>154</td>\n",
       "    </tr>\n",
       "    <tr>\n",
       "      <th>5038</th>\n",
       "      <td>148.693423</td>\n",
       "      <td>153</td>\n",
       "    </tr>\n",
       "    <tr>\n",
       "      <th>5039</th>\n",
       "      <td>148.165936</td>\n",
       "      <td>152</td>\n",
       "    </tr>\n",
       "    <tr>\n",
       "      <th>5040</th>\n",
       "      <td>147.639833</td>\n",
       "      <td>151</td>\n",
       "    </tr>\n",
       "    <tr>\n",
       "      <th>5041</th>\n",
       "      <td>147.115213</td>\n",
       "      <td>150</td>\n",
       "    </tr>\n",
       "  </tbody>\n",
       "</table>\n",
       "<p>5041 rows × 2 columns</p>\n",
       "</div>"
      ],
      "text/plain": [
       "            Blood Glucose (mg/dl)  Sensor Glucose Readings(mg/dl)\n",
       "Time (min)                                                       \n",
       "1                      122.743957                             121\n",
       "2                      122.743957                             121\n",
       "3                      122.743957                             121\n",
       "4                      122.743957                             121\n",
       "5                      122.743957                             121\n",
       "...                           ...                             ...\n",
       "5037                   149.222188                             154\n",
       "5038                   148.693423                             153\n",
       "5039                   148.165936                             152\n",
       "5040                   147.639833                             151\n",
       "5041                   147.115213                             150\n",
       "\n",
       "[5041 rows x 2 columns]"
      ]
     },
     "execution_count": 2,
     "metadata": {},
     "output_type": "execute_result"
    }
   ],
   "source": [
    "path=r'C:\\Users\\30694\\Documents\\Υλικό\\Biomed\\data.xlsm'\n",
    "data=pd.read_excel(path, index_col=0)\n",
    "data"
   ]
  },
  {
   "cell_type": "code",
   "execution_count": 18,
   "id": "b4a46a0d",
   "metadata": {},
   "outputs": [],
   "source": [
    "def mard_coef(y_ground,y_sensor):\n",
    "    #MARD\n",
    "    mard=np.mean(np.abs(y_ground-y_sensor)/y_ground)*100\n",
    "    #Correlation coefficient using numpy\n",
    "    coeff=np.corrcoef(y_ground,y_sensor)\n",
    "    print('Mean absolute relative distance is : {}%'.format(round(mard,3)))\n",
    "    print('Correlation coefficient between the Glucose and the sensor readings is :', coeff[0,1], '\\n')"
   ]
  },
  {
   "cell_type": "code",
   "execution_count": 23,
   "id": "34c96b5c",
   "metadata": {},
   "outputs": [
    {
     "name": "stdout",
     "output_type": "stream",
     "text": [
      "For Blood Glucose values between 60.609 mg/dl and 69.992 mg/dl :\n",
      "Mean absolute relative distance is : 6.978%\n",
      "Correlation coefficient between the Glucose and the sensor readings is : 0.6665762433927276 \n",
      "\n"
     ]
    },
    {
     "data": {
      "image/png": "[encoded data removed]",
      "text/plain": [
       "<Figure size 432x288 with 1 Axes>"
      ]
     },
     "metadata": {
      "needs_background": "light"
     },
     "output_type": "display_data"
    },
    {
     "name": "stdout",
     "output_type": "stream",
     "text": [
      "For Blood Glucose values between 70.035 mg/dl and 179.962 mg/dl :\n",
      "Mean absolute relative distance is : 9.48%\n",
      "Correlation coefficient between the Glucose and the sensor readings is : 0.9066791694973899 \n",
      "\n"
     ]
    },
    {
     "data": {
      "image/png": "[encoded data removed]",
      "text/plain": [
       "<Figure size 432x288 with 1 Axes>"
      ]
     },
     "metadata": {
      "needs_background": "light"
     },
     "output_type": "display_data"
    },
    {
     "name": "stdout",
     "output_type": "stream",
     "text": [
      "For Blood Glucose values between 180.009 mg/dl and 387.232 mg/dl :\n",
      "Mean absolute relative distance is : 6.53%\n",
      "Correlation coefficient between the Glucose and the sensor readings is : 0.8993815576281389 \n",
      "\n"
     ]
    },
    {
     "data": {
      "image/png": "[encoded data removed]",
      "text/plain": [
       "<Figure size 432x288 with 1 Axes>"
      ]
     },
     "metadata": {
      "needs_background": "light"
     },
     "output_type": "display_data"
    }
   ],
   "source": [
    "for i in [data[data['Blood Glucose (mg/dl)']<70], data[data['Blood Glucose (mg/dl)'].between(70,180)],\n",
    "          data[data['Blood Glucose (mg/dl)']>180]]:\n",
    "    y_ground=i\n",
    "    y_sensor=y_ground['Sensor Glucose Readings(mg/dl)']\n",
    "    y_ground=y_ground['Blood Glucose (mg/dl)']\n",
    "    print('For Blood Glucose values between {} mg/dl and {} mg/dl :'.format(round(min(y_ground),3),round(max(y_ground),3)))\n",
    "    mard_coef(y_ground,y_sensor)\n",
    "    plt.figure()\n",
    "    plt.scatter(y_sensor,y_ground)\n",
    "    plt.plot(np.arange(min(y_ground),max(y_ground)),np.arange(min(y_ground),max(y_ground)), 'r')\n",
    "    plt.xlabel('Sensor Values')\n",
    "    plt.ylabel('Blood Glucose')\n",
    "    plt.title('For Blood Glucose values between {} mg/dl and {} mg/dl :'.format(round(min(y_ground),3),round(max(y_ground),3)))\n",
    "    plt.show()"
   ]
  },
  {
   "cell_type": "code",
   "execution_count": 5,
   "id": "32efd76f",
   "metadata": {},
   "outputs": [
    {
     "name": "stdout",
     "output_type": "stream",
     "text": [
      "For Blood Glucose values between 180.009 mg/dl and 387.232 mg/dl :\n",
      " Correlation coefficient : 0.8993815576281391\n"
     ]
    }
   ],
   "source": [
    "##We can also compute Correlation coefficient without using numpy\n",
    "c1=y_sensor-np.mean(y_sensor)\n",
    "c2=y_ground-np.mean(y_ground)\n",
    "\n",
    "r=np.sum(c1*c2)/(np.sqrt((np.sum(c1**2))*(np.sum(c2**2))))\n",
    "print('For Blood Glucose values between 180.009 mg/dl and 387.232 mg/dl :\\n','Correlation coefficient :',r)"
   ]
  },
  {
   "cell_type": "code",
   "execution_count": 6,
   "id": "b96eb5da",
   "metadata": {},
   "outputs": [
    {
     "data": {
      "text/html": [
       "<div>\n",
       "<style scoped>\n",
       "    .dataframe tbody tr th:only-of-type {\n",
       "        vertical-align: middle;\n",
       "    }\n",
       "\n",
       "    .dataframe tbody tr th {\n",
       "        vertical-align: top;\n",
       "    }\n",
       "\n",
       "    .dataframe thead th {\n",
       "        text-align: right;\n",
       "    }\n",
       "</style>\n",
       "<table border=\"1\" class=\"dataframe\">\n",
       "  <thead>\n",
       "    <tr style=\"text-align: right;\">\n",
       "      <th></th>\n",
       "      <th>Blood Glucose (mg/dl)</th>\n",
       "      <th>Sensor Glucose Readings(mg/dl)</th>\n",
       "      <th>Hypoglycemia</th>\n",
       "      <th>Predicted_Hypoglycemia</th>\n",
       "      <th>Hyperglycemia</th>\n",
       "      <th>Predicted_Hyperglycemia</th>\n",
       "    </tr>\n",
       "    <tr>\n",
       "      <th>Time (min)</th>\n",
       "      <th></th>\n",
       "      <th></th>\n",
       "      <th></th>\n",
       "      <th></th>\n",
       "      <th></th>\n",
       "      <th></th>\n",
       "    </tr>\n",
       "  </thead>\n",
       "  <tbody>\n",
       "    <tr>\n",
       "      <th>1</th>\n",
       "      <td>122.743957</td>\n",
       "      <td>121</td>\n",
       "      <td>0</td>\n",
       "      <td>0</td>\n",
       "      <td>0</td>\n",
       "      <td>0</td>\n",
       "    </tr>\n",
       "    <tr>\n",
       "      <th>2</th>\n",
       "      <td>122.743957</td>\n",
       "      <td>121</td>\n",
       "      <td>0</td>\n",
       "      <td>0</td>\n",
       "      <td>0</td>\n",
       "      <td>0</td>\n",
       "    </tr>\n",
       "    <tr>\n",
       "      <th>3</th>\n",
       "      <td>122.743957</td>\n",
       "      <td>121</td>\n",
       "      <td>0</td>\n",
       "      <td>0</td>\n",
       "      <td>0</td>\n",
       "      <td>0</td>\n",
       "    </tr>\n",
       "    <tr>\n",
       "      <th>4</th>\n",
       "      <td>122.743957</td>\n",
       "      <td>121</td>\n",
       "      <td>0</td>\n",
       "      <td>0</td>\n",
       "      <td>0</td>\n",
       "      <td>0</td>\n",
       "    </tr>\n",
       "    <tr>\n",
       "      <th>5</th>\n",
       "      <td>122.743957</td>\n",
       "      <td>121</td>\n",
       "      <td>0</td>\n",
       "      <td>0</td>\n",
       "      <td>0</td>\n",
       "      <td>0</td>\n",
       "    </tr>\n",
       "    <tr>\n",
       "      <th>...</th>\n",
       "      <td>...</td>\n",
       "      <td>...</td>\n",
       "      <td>...</td>\n",
       "      <td>...</td>\n",
       "      <td>...</td>\n",
       "      <td>...</td>\n",
       "    </tr>\n",
       "    <tr>\n",
       "      <th>5037</th>\n",
       "      <td>149.222188</td>\n",
       "      <td>154</td>\n",
       "      <td>0</td>\n",
       "      <td>0</td>\n",
       "      <td>0</td>\n",
       "      <td>0</td>\n",
       "    </tr>\n",
       "    <tr>\n",
       "      <th>5038</th>\n",
       "      <td>148.693423</td>\n",
       "      <td>153</td>\n",
       "      <td>0</td>\n",
       "      <td>0</td>\n",
       "      <td>0</td>\n",
       "      <td>0</td>\n",
       "    </tr>\n",
       "    <tr>\n",
       "      <th>5039</th>\n",
       "      <td>148.165936</td>\n",
       "      <td>152</td>\n",
       "      <td>0</td>\n",
       "      <td>0</td>\n",
       "      <td>0</td>\n",
       "      <td>0</td>\n",
       "    </tr>\n",
       "    <tr>\n",
       "      <th>5040</th>\n",
       "      <td>147.639833</td>\n",
       "      <td>151</td>\n",
       "      <td>0</td>\n",
       "      <td>0</td>\n",
       "      <td>0</td>\n",
       "      <td>0</td>\n",
       "    </tr>\n",
       "    <tr>\n",
       "      <th>5041</th>\n",
       "      <td>147.115213</td>\n",
       "      <td>150</td>\n",
       "      <td>0</td>\n",
       "      <td>0</td>\n",
       "      <td>0</td>\n",
       "      <td>0</td>\n",
       "    </tr>\n",
       "  </tbody>\n",
       "</table>\n",
       "<p>5041 rows × 6 columns</p>\n",
       "</div>"
      ],
      "text/plain": [
       "            Blood Glucose (mg/dl)  Sensor Glucose Readings(mg/dl)  \\\n",
       "Time (min)                                                          \n",
       "1                      122.743957                             121   \n",
       "2                      122.743957                             121   \n",
       "3                      122.743957                             121   \n",
       "4                      122.743957                             121   \n",
       "5                      122.743957                             121   \n",
       "...                           ...                             ...   \n",
       "5037                   149.222188                             154   \n",
       "5038                   148.693423                             153   \n",
       "5039                   148.165936                             152   \n",
       "5040                   147.639833                             151   \n",
       "5041                   147.115213                             150   \n",
       "\n",
       "            Hypoglycemia  Predicted_Hypoglycemia  Hyperglycemia  \\\n",
       "Time (min)                                                        \n",
       "1                      0                       0              0   \n",
       "2                      0                       0              0   \n",
       "3                      0                       0              0   \n",
       "4                      0                       0              0   \n",
       "5                      0                       0              0   \n",
       "...                  ...                     ...            ...   \n",
       "5037                   0                       0              0   \n",
       "5038                   0                       0              0   \n",
       "5039                   0                       0              0   \n",
       "5040                   0                       0              0   \n",
       "5041                   0                       0              0   \n",
       "\n",
       "            Predicted_Hyperglycemia  \n",
       "Time (min)                           \n",
       "1                                 0  \n",
       "2                                 0  \n",
       "3                                 0  \n",
       "4                                 0  \n",
       "5                                 0  \n",
       "...                             ...  \n",
       "5037                              0  \n",
       "5038                              0  \n",
       "5039                              0  \n",
       "5040                              0  \n",
       "5041                              0  \n",
       "\n",
       "[5041 rows x 6 columns]"
      ]
     },
     "execution_count": 6,
     "metadata": {},
     "output_type": "execute_result"
    }
   ],
   "source": [
    "data=data.assign(Hypoglycemia=(data['Blood Glucose (mg/dl)']<70).astype('int32'))\n",
    "data=data.assign(Predicted_Hypoglycemia=(data['Sensor Glucose Readings(mg/dl)']<70).astype('int32'))\n",
    "data=data.assign(Hyperglycemia=(data['Blood Glucose (mg/dl)']>180).astype('int32'))\n",
    "data=data.assign(Predicted_Hyperglycemia=(data['Sensor Glucose Readings(mg/dl)']>180).astype('int32'))\n",
    "data"
   ]
  },
  {
   "cell_type": "code",
   "execution_count": 7,
   "id": "6fdf5a96",
   "metadata": {},
   "outputs": [],
   "source": [
    "y_hypoglycemia_true=data['Hypoglycemia']\n",
    "y_hypoglycemia_pred=data['Predicted_Hypoglycemia']\n",
    "y_hyperglycemia_true=data['Hyperglycemia']\n",
    "y_hyperglycemia_pred=data['Predicted_Hyperglycemia']"
   ]
  },
  {
   "cell_type": "code",
   "execution_count": 8,
   "id": "8af6219b",
   "metadata": {},
   "outputs": [],
   "source": [
    "#ROC analysis\n",
    "def roc_analysis(y_true,y_pred):\n",
    "    fpr, tpr, thresholds = metrics.roc_curve(y_true,y_pred,pos_label=1)\n",
    "    print('True positive rate for each threshold :', tpr)\n",
    "    metrics.RocCurveDisplay.from_predictions(y_true,y_pred)\n",
    "    plt.show()"
   ]
  },
  {
   "cell_type": "code",
   "execution_count": 9,
   "id": "e2fae2d3",
   "metadata": {},
   "outputs": [],
   "source": [
    "def extract_metrics(y_true,y_pred):\n",
    "    #Confusion Matrix\n",
    "    cm=metrics.confusion_matrix(y_true,y_pred)\n",
    "    print('Confusion Matrix :\\n',cm)\n",
    "    #Sensitivity\n",
    "    print('Sensitivity : ',cm[1,1]/(cm[1,1]+cm[1,0]))\n",
    "    #Specificity\n",
    "    print('Specificity : ',cm[0,0]/(cm[0,0]+cm[0,1]))\n",
    "    #PPV\n",
    "    print(\"Positive Predictive Values :\", cm[1,1]/(cm[1,1]+cm[0,1]))\n",
    "    #NPV\n",
    "    print(\"Negative Predictive Values :\", cm[0,0]/(cm[0,0]+cm[1,0]))\n",
    "    #Accuracy\n",
    "    print('Accuracy :', (cm[0,0]+cm[1,1])/np.sum(cm))"
   ]
  },
  {
   "cell_type": "code",
   "execution_count": 10,
   "id": "963bde9a",
   "metadata": {},
   "outputs": [
    {
     "name": "stdout",
     "output_type": "stream",
     "text": [
      "True positive rate for each threshold : [0.         0.61490683 1.        ]\n"
     ]
    },
    {
     "data": {
      "image/png": "[encoded data removed]",
      "text/plain": [
       "<Figure size 432x288 with 1 Axes>"
      ]
     },
     "metadata": {
      "needs_background": "light"
     },
     "output_type": "display_data"
    }
   ],
   "source": [
    "roc_analysis(y_hypoglycemia_true,y_hypoglycemia_pred)"
   ]
  },
  {
   "cell_type": "code",
   "execution_count": 11,
   "id": "2f3d7f27",
   "metadata": {},
   "outputs": [
    {
     "name": "stdout",
     "output_type": "stream",
     "text": [
      "Confusion Matrix :\n",
      " [[4758  122]\n",
      " [  62   99]]\n",
      "Sensitivity :  0.6149068322981367\n",
      "Specificity :  0.975\n",
      "Positive Predictive Values : 0.4479638009049774\n",
      "Negative Predictive Values : 0.987136929460581\n",
      "Accuracy : 0.9634993056933148\n"
     ]
    }
   ],
   "source": [
    "extract_metrics(y_hypoglycemia_true,y_hypoglycemia_pred)"
   ]
  },
  {
   "cell_type": "code",
   "execution_count": 12,
   "id": "90fa8af5",
   "metadata": {},
   "outputs": [
    {
     "name": "stdout",
     "output_type": "stream",
     "text": [
      "True positive rate for each threshold : [0.         0.94621639 1.        ]\n"
     ]
    },
    {
     "data": {
      "image/png": "[encoded data removed]",
      "text/plain": [
       "<Figure size 432x288 with 1 Axes>"
      ]
     },
     "metadata": {
      "needs_background": "light"
     },
     "output_type": "display_data"
    }
   ],
   "source": [
    "roc_analysis(y_hyperglycemia_true,y_hyperglycemia_pred)"
   ]
  },
  {
   "cell_type": "code",
   "execution_count": 13,
   "id": "a6d56388",
   "metadata": {},
   "outputs": [
    {
     "name": "stdout",
     "output_type": "stream",
     "text": [
      "Confusion Matrix :\n",
      " [[3233  209]\n",
      " [  86 1513]]\n",
      "Sensitivity :  0.9462163852407754\n",
      "Specificity :  0.9392794886693783\n",
      "Positive Predictive Values : 0.8786295005807201\n",
      "Negative Predictive Values : 0.9740885808978608\n",
      "Accuracy : 0.9414798651061297\n"
     ]
    }
   ],
   "source": [
    "extract_metrics(y_hyperglycemia_true,y_hyperglycemia_pred)"
   ]
  },
  {
   "cell_type": "code",
   "execution_count": null,
   "id": "ab444247",
   "metadata": {},
   "outputs": [],
   "source": []
  }
 ],
 "metadata": {
  "kernelspec": {
   "display_name": "Python 3 (ipykernel)",
   "language": "python",
   "name": "python3"
  },
  "language_info": {
   "codemirror_mode": {
    "name": "ipython",
    "version": 3
   },
   "file_extension": ".py",
   "mimetype": "text/x-python",
   "name": "python",
   "nbconvert_exporter": "python",
   "pygments_lexer": "ipython3",
   "version": "3.8.13"
  }
 },
 "nbformat": 4,
 "nbformat_minor": 5
}
